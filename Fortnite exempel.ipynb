{
 "cells": [
  {
   "cell_type": "markdown",
   "metadata": {},
   "source": [
    "Vi börjar med att skapa ett spelar objekt"
   ]
  },
  {
   "cell_type": "code",
   "execution_count": 8,
   "metadata": {
    "collapsed": true
   },
   "outputs": [],
   "source": [
    "from fortnite_api import player\n",
    "p = player.FortnitePlayer(\"ninja\")"
   ]
  },
  {
   "cell_type": "markdown",
   "metadata": {
    "collapsed": false
   },
   "source": [
    "Nu kan vi se vad för egenskaper detta objekt har"
   ]
  },
  {
   "cell_type": "code",
   "execution_count": 9,
   "metadata": {
    "collapsed": false
   },
   "outputs": [
    {
     "name": "stdout",
     "output_type": "stream",
     "text": [
      "5054383\n",
      "13023\n",
      "4794\n",
      "91671\n",
      "ninja\n"
     ]
    }
   ],
   "source": [
    "print p.score\n",
    "print p.matches\n",
    "print p.wins\n",
    "print p.kills\n",
    "print p.name"
   ]
  },
  {
   "cell_type": "markdown",
   "metadata": {
    "collapsed": true
   },
   "source": [
    "Låt oss läsa in lite fler spelar namn från en text fil och ladda dem från en server. Vi kan bara skapa ett nytt objekt varannan sekund för att inte överhetta servern."
   ]
  },
  {
   "cell_type": "code",
   "execution_count": 10,
   "metadata": {
    "collapsed": false
   },
   "outputs": [
    {
     "name": "stdout",
     "output_type": "stream",
     "text": [
      "Adding player TTV.Uwatakashi\n",
      "Adding player Ninja\n",
      "Adding player Twitch-Ettnix\n",
      "Adding player E11 BlooTea\n",
      "Adding player WBG Ranger\n",
      "Adding player COOLER eXzacT\n",
      "Adding player QUASAR Luanzera\n",
      "Adding player Svennoss\n",
      "Adding player 睏三小睏貴桃戈母災87\n",
      "Adding player Youtube.Uniq\n",
      "Adding player MiTH_Chambers\n",
      "Adding player Dark\n",
      "Adding player JohnPitterTV\n",
      "Adding player Fnatic_Jαrl\n",
      "Adding player ItsWiKKiD\n"
     ]
    }
   ],
   "source": [
    "from time import sleep\n",
    "player_names = []\n",
    "players = []\n",
    "for line in open(\"players-ht2018.txt\").readlines():\n",
    "    name = line.strip()\n",
    "    print \"Adding player \" + name\n",
    "    player_names.append(name)\n",
    "    players.append(player.FortnitePlayer(name))\n",
    "    sleep(2)"
   ]
  },
  {
   "cell_type": "markdown",
   "metadata": {},
   "source": [
    "Och sen kan vi räkna ut lite statistik, t.ex. vad är medelvärdet på vinster"
   ]
  },
  {
   "cell_type": "code",
   "execution_count": 11,
   "metadata": {
    "collapsed": false
   },
   "outputs": [
    {
     "name": "stdout",
     "output_type": "stream",
     "text": [
      "Medelvärdet = 4166.4\n"
     ]
    }
   ],
   "source": [
    "summa = 0\n",
    "for player in players:\n",
    "    summa = summa + player.wins\n",
    "medel = summa / float(len(players))\n",
    "print \"Medelvärdet = \" + str(medel)"
   ]
  },
  {
   "cell_type": "markdown",
   "metadata": {},
   "source": [
    "Och sen kan vi räkna på vilka spelare som är bättre än medelvärdet"
   ]
  },
  {
   "cell_type": "code",
   "execution_count": 12,
   "metadata": {
    "collapsed": false
   },
   "outputs": [
    {
     "name": "stdout",
     "output_type": "stream",
     "text": [
      "TTV.Uwatakashi          716\n",
      "Ninja                   627\n",
      "Twitch-Ettnix           191\n",
      "E11 BlooTea             177\n",
      "WBG Ranger              164\n",
      "COOLER eXzacT            96\n",
      "QUASAR Luanzera           7\n",
      "Svennoss                -19\n",
      "睏三小睏貴桃戈母災87    -52\n",
      "Youtube.Uniq           -106\n",
      "MiTH_Chambers          -170\n",
      "Dark                   -259\n",
      "JohnPitterTV           -401\n",
      "Fnatic_Jαrl           -444\n",
      "ItsWiKKiD              -528\n"
     ]
    }
   ],
   "source": [
    "for player in players:\n",
    "    print \"%-20s %6d\"%(player.name, player.wins - medel)"
   ]
  },
  {
   "cell_type": "markdown",
   "metadata": {},
   "source": [
    "Och till sist kan vi skapa en tjusig graf som visar lifetime score"
   ]
  },
  {
   "cell_type": "code",
   "execution_count": 13,
   "metadata": {
    "collapsed": false
   },
   "outputs": [
    {
     "data": {
      "image/png": "[encoded data removed]",
      "text/plain": [
       "<matplotlib.figure.Figure at 0x10ba7b1d0>"
      ]
     },
     "metadata": {},
     "output_type": "display_data"
    }
   ],
   "source": [
    "import matplotlib.pylab as plt\n",
    "scores = [player.score for player in players]\n",
    "player_names_short = [name[:5] for name in player_names]\n",
    "player_names_short[8] = \"87\"\n",
    "plt.bar(range(len(players)), scores, tick_label=player_names_short)\n",
    "plt.xticks(rotation='vertical')\n",
    "plt.ylabel(\"Limetime score\")\n",
    "plt.show()"
   ]
  },
  {
   "cell_type": "code",
   "execution_count": null,
   "metadata": {
    "collapsed": true
   },
   "outputs": [],
   "source": []
  },
  {
   "cell_type": "code",
   "execution_count": null,
   "metadata": {
    "collapsed": true
   },
   "outputs": [],
   "source": []
  }
 ],
 "metadata": {
  "anaconda-cloud": {},
  "kernelspec": {
   "display_name": "Python [default]",
   "language": "python",
   "name": "python2"
  },
  "language_info": {
   "codemirror_mode": {
    "name": "ipython",
    "version": 2
   },
   "file_extension": ".py",
   "mimetype": "text/x-python",
   "name": "python",
   "nbconvert_exporter": "python",
   "pygments_lexer": "ipython2",
   "version": "2.7.12"
  }
 },
 "nbformat": 4,
 "nbformat_minor": 1
}
