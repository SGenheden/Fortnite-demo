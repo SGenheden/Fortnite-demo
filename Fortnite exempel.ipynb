{
 "cells": [
  {
   "cell_type": "markdown",
   "metadata": {},
   "source": [
    "Vi börjar med att skapa ett spelar objekt"
   ]
  },
  {
   "cell_type": "code",
   "execution_count": 2,
   "metadata": {
    "collapsed": true
   },
   "outputs": [],
   "source": [
    "from fortnite_api import player\n",
    "p = player.FortnitePlayer(\"ninja\")"
   ]
  },
  {
   "cell_type": "markdown",
   "metadata": {
    "collapsed": false
   },
   "source": [
    "Nu kan vi se vad för egenskaper detta objekt har"
   ]
  },
  {
   "cell_type": "code",
   "execution_count": 3,
   "metadata": {
    "collapsed": false
   },
   "outputs": [
    {
     "name": "stdout",
     "output_type": "stream",
     "text": [
      "2546956\n",
      "7323\n",
      "2487\n",
      "53066\n"
     ]
    }
   ],
   "source": [
    "print p.score\n",
    "print p.matches\n",
    "print p.wins\n",
    "print p.kills"
   ]
  },
  {
   "cell_type": "markdown",
   "metadata": {
    "collapsed": true
   },
   "source": [
    "Låt oss läsa in lite fler spelar namn från en text fil"
   ]
  },
  {
   "cell_type": "code",
   "execution_count": 6,
   "metadata": {
    "collapsed": false
   },
   "outputs": [
    {
     "name": "stdout",
     "output_type": "stream",
     "text": [
      "['Twitch_Svennoss', 'Ninja', 'Fnatic_Ettnix', '4hs_Uwatakashi\\xd0\\xa2V', 'WBG Strafesh0t', 'Twitch_PuZiiyo', 'Chambers-', 'TE_life_YAn', 'Zaccubus', 'TSM_Hamlinz', 'Solary Kinstaar', 'CT Zoning-M.K', 'BRC Woodpecker', 'SypherPK', 'Twitch APEXENITH', 'OC LnNzera', 'qoowill', 'Twitch ItsZaxi', 'TSM_Myth', 'KingRichard15', 'StancodTV', 'Dark', 'Copy - TH', 'iskold b0t', 'TE_Life_sh\\xc3\\x98ut']\n"
     ]
    }
   ],
   "source": [
    "player_names = [line.strip() for line in open(\"players.txt\").readlines()]\n",
    "print player_names"
   ]
  },
  {
   "cell_type": "code",
   "execution_count": 9,
   "metadata": {
    "collapsed": true
   },
   "outputs": [],
   "source": [
    "from time import sleep\n",
    "players = []\n",
    "for name in player_names:\n",
    "    players.append(player.FortnitePlayer(name))\n",
    "    sleep(2)"
   ]
  },
  {
   "cell_type": "markdown",
   "metadata": {},
   "source": [
    "Och sen kan vi räkna ut lite statistik, t.ex. vad är medelvärdet på vinnar %"
   ]
  },
  {
   "cell_type": "code",
   "execution_count": 24,
   "metadata": {
    "collapsed": false
   },
   "outputs": [
    {
     "name": "stdout",
     "output_type": "stream",
     "text": [
      "0.388376826126\n"
     ]
    }
   ],
   "source": [
    "summa = 0\n",
    "for player in players:\n",
    "    summa = summa + player.wins / float(player.matches)\n",
    "print summa / float(len(players))"
   ]
  },
  {
   "cell_type": "markdown",
   "metadata": {},
   "source": [
    "Eller medelvärdet på kills %"
   ]
  },
  {
   "cell_type": "code",
   "execution_count": 25,
   "metadata": {
    "collapsed": false
   },
   "outputs": [
    {
     "name": "stdout",
     "output_type": "stream",
     "text": [
      "5.67378746118\n"
     ]
    }
   ],
   "source": [
    "summa = 0\n",
    "for player in players:\n",
    "    summa = summa + player.kills / float(player.matches)\n",
    "print summa / float(len(players))"
   ]
  },
  {
   "cell_type": "markdown",
   "metadata": {},
   "source": [
    "Och till sist kan vi skapa en tjusig graf"
   ]
  },
  {
   "cell_type": "code",
   "execution_count": 33,
   "metadata": {
    "collapsed": false
   },
   "outputs": [
    {
     "data": {
      "image/png": "[encoded data removed]",
      "text/plain": [
       "<matplotlib.figure.Figure at 0x10e5e6150>"
      ]
     },
     "metadata": {},
     "output_type": "display_data"
    }
   ],
   "source": [
    "import matplotlib.pylab as plt\n",
    "scores = [player.score for player in players]\n",
    "player_names_short = [name[:5] for name in player_names]\n",
    "plt.bar(range(len(players)), scores, tick_label=player_names_short)\n",
    "plt.xticks(rotation='vertical')\n",
    "plt.ylabel(\"Limetime score\")\n",
    "plt.show()"
   ]
  }
 ],
 "metadata": {
  "anaconda-cloud": {},
  "kernelspec": {
   "display_name": "Python [default]",
   "language": "python",
   "name": "python2"
  }
 },
 "nbformat": 4,
 "nbformat_minor": 1
}
